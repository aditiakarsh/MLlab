{
 "cells": [
  {
   "cell_type": "code",
   "execution_count": 20,
   "id": "b33f4d90",
   "metadata": {},
   "outputs": [],
   "source": [
    "import pandas as pd\n",
    "import numpy as np"
   ]
  },
  {
   "cell_type": "code",
   "execution_count": 25,
   "id": "6ffdfe86",
   "metadata": {},
   "outputs": [
    {
     "name": "stdout",
     "output_type": "stream",
     "text": [
      "     sky air temp humidity    wind water forecast enjoy sport\n",
      "0  sunny     warm   normal  strong  warm     same         yes\n",
      "1  sunny     warm     high  strong  warm     same         yes\n",
      "2  rainy     cold     high  strong  warm   change          no\n",
      "3  sunny     warm     high  strong  cool   change         yes\n"
     ]
    }
   ],
   "source": [
    "d=pd.read_csv(\"data.csv\")\n",
    "print (d)\n",
    "att=np.array(d)[:,:-1]\n",
    "tar=np.array(d)[:,-1]"
   ]
  },
  {
   "cell_type": "code",
   "execution_count": 22,
   "id": "b0a86274",
   "metadata": {},
   "outputs": [],
   "source": [
    "def finds(att,tar):\n",
    "    for i,val in enumerate(tar):\n",
    "        if val==\"yes\":\n",
    "            \n",
    "            \n",
    "            res=att[i].copy()\n",
    "            break\n",
    "    for i,val in enumerate(att):\n",
    "        if tar[i]==\"yes\":\n",
    "            for x in range(len(res)):\n",
    "                if val[x]!=res[x]:\n",
    "                    res[x]=\"?\"\n",
    "                else:\n",
    "                    pass\n",
    "    return res"
   ]
  },
  {
   "cell_type": "code",
   "execution_count": 23,
   "id": "f4c622c4",
   "metadata": {},
   "outputs": [
    {
     "name": "stdout",
     "output_type": "stream",
     "text": [
      "['sunny' 'warm' '?' 'strong' '?' '?']\n"
     ]
    }
   ],
   "source": [
    "print(finds(att,tar))"
   ]
  },
  {
   "cell_type": "code",
   "execution_count": null,
   "id": "81bab35c",
   "metadata": {},
   "outputs": [],
   "source": []
  }
 ],
 "metadata": {
  "kernelspec": {
   "display_name": "Python 3 (ipykernel)",
   "language": "python",
   "name": "python3"
  },
  "language_info": {
   "codemirror_mode": {
    "name": "ipython",
    "version": 3
   },
   "file_extension": ".py",
   "mimetype": "text/x-python",
   "name": "python",
   "nbconvert_exporter": "python",
   "pygments_lexer": "ipython3",
   "version": "3.9.7"
  }
 },
 "nbformat": 4,
 "nbformat_minor": 5
}

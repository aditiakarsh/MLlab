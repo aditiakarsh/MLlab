{
 "cells": [
  {
   "cell_type": "code",
   "execution_count": 5,
   "id": "efde83f6",
   "metadata": {},
   "outputs": [
    {
     "name": "stdout",
     "output_type": "stream",
     "text": [
      "\n",
      "Instances are:\n",
      " [['sunny' 'warm' 'normal' 'strong' 'warm' 'same']\n",
      " ['sunny' 'warm' 'high' 'strong' 'warm' 'same']\n",
      " ['rainy' 'cold' 'high' 'strong' 'warm' 'change']\n",
      " ['sunny' 'warm' 'high' 'strong' 'cool' 'change']]\n",
      "\n",
      "Target Values are:  ['yes' 'yes' 'no' 'yes']\n"
     ]
    }
   ],
   "source": [
    "import numpy as np \n",
    "import pandas as pd\n",
    "\n",
    "d = pd.read_csv(\"data.csv\")\n",
    "att = np.array(d)[:,:-1]\n",
    "print(\"\\nInstances are:\\n\",att)\n",
    "tar = np.array(d)[:,-1]\n",
    "print(\"\\nTarget Values are: \",tar)\n",
    "\n"
   ]
  },
  {
   "cell_type": "code",
   "execution_count": 16,
   "id": "e61ddff4",
   "metadata": {},
   "outputs": [],
   "source": [
    "def candi(att, tar): \n",
    "    sh= att[0].copy()\n",
    "   \n",
    "    print(\"\\nSpecific Boundary: \",sh)\n",
    "    gh = [[\"?\" for i in range(len(sh))] for i in range(len(sh))]\n",
    "    print(\"\\nGeneric Boundary: \",gh)  \n",
    "\n",
    "    for i, h in enumerate(att):\n",
    "        print(i+1 , \"is \", h)\n",
    "        if tar[i] == \"yes\":\n",
    "            print(\"=Positive \")\n",
    "            for x in range(len(sh)): \n",
    "                if h[x]!= sh[x]:                    \n",
    "                    sh[x] ='?'                     \n",
    "                    gh[x][x] ='?'\n",
    "                   \n",
    "        if tar[i] == \"no\":            \n",
    "            print(\"= Negative \")\n",
    "            for x in range(len(sh)): \n",
    "                if h[x]!= sh[x]:                    \n",
    "                    gh[x][x] = sh[x]                \n",
    "                else:                    \n",
    "                    gh[x][x] = '?'        \n",
    "        \n",
    "        print(\"Specific Boundary after \", i+1, \" is \", sh)         \n",
    "        print(\"Generic Boundary after \", i+1, \"is \", gh)\n",
    "        print(\"\\n\")\n",
    "\n",
    "    indices = [i for i, val in enumerate(gh) if val == ['?', '?', '?', '?', '?', '?']]    \n",
    "    for i in indices:   \n",
    "        gh.remove(['?', '?', '?', '?', '?', '?']) \n",
    "    return sh, gh \n"
   ]
  },
  {
   "cell_type": "code",
   "execution_count": 17,
   "id": "4fd13759",
   "metadata": {},
   "outputs": [
    {
     "name": "stdout",
     "output_type": "stream",
     "text": [
      "\n",
      "Specific Boundary:  ['sunny' 'warm' 'normal' 'strong' 'warm' 'same']\n",
      "\n",
      "Generic Boundary:  [['?', '?', '?', '?', '?', '?'], ['?', '?', '?', '?', '?', '?'], ['?', '?', '?', '?', '?', '?'], ['?', '?', '?', '?', '?', '?'], ['?', '?', '?', '?', '?', '?'], ['?', '?', '?', '?', '?', '?']]\n",
      "1 is  ['sunny' 'warm' 'normal' 'strong' 'warm' 'same']\n",
      "=Positive \n",
      "Specific Boundary after  1  is  ['sunny' 'warm' 'normal' 'strong' 'warm' 'same']\n",
      "Generic Boundary after  1 is  [['?', '?', '?', '?', '?', '?'], ['?', '?', '?', '?', '?', '?'], ['?', '?', '?', '?', '?', '?'], ['?', '?', '?', '?', '?', '?'], ['?', '?', '?', '?', '?', '?'], ['?', '?', '?', '?', '?', '?']]\n",
      "\n",
      "\n",
      "2 is  ['sunny' 'warm' 'high' 'strong' 'warm' 'same']\n",
      "=Positive \n",
      "Specific Boundary after  2  is  ['sunny' 'warm' '?' 'strong' 'warm' 'same']\n",
      "Generic Boundary after  2 is  [['?', '?', '?', '?', '?', '?'], ['?', '?', '?', '?', '?', '?'], ['?', '?', '?', '?', '?', '?'], ['?', '?', '?', '?', '?', '?'], ['?', '?', '?', '?', '?', '?'], ['?', '?', '?', '?', '?', '?']]\n",
      "\n",
      "\n",
      "3 is  ['rainy' 'cold' 'high' 'strong' 'warm' 'change']\n",
      "= Negative \n",
      "Specific Boundary after  3  is  ['sunny' 'warm' '?' 'strong' 'warm' 'same']\n",
      "Generic Boundary after  3 is  [['sunny', '?', '?', '?', '?', '?'], ['?', 'warm', '?', '?', '?', '?'], ['?', '?', '?', '?', '?', '?'], ['?', '?', '?', '?', '?', '?'], ['?', '?', '?', '?', '?', '?'], ['?', '?', '?', '?', '?', 'same']]\n",
      "\n",
      "\n",
      "4 is  ['sunny' 'warm' 'high' 'strong' 'cool' 'change']\n",
      "=Positive \n",
      "Specific Boundary after  4  is  ['sunny' 'warm' '?' 'strong' '?' '?']\n",
      "Generic Boundary after  4 is  [['sunny', '?', '?', '?', '?', '?'], ['?', 'warm', '?', '?', '?', '?'], ['?', '?', '?', '?', '?', '?'], ['?', '?', '?', '?', '?', '?'], ['?', '?', '?', '?', '?', '?'], ['?', '?', '?', '?', '?', '?']]\n",
      "\n",
      "\n",
      "(array(['sunny', 'warm', '?', 'strong', '?', '?'], dtype=object), [['sunny', '?', '?', '?', '?', '?'], ['?', 'warm', '?', '?', '?', '?']])\n"
     ]
    }
   ],
   "source": [
    "print(candi(att,tar))"
   ]
  },
  {
   "cell_type": "code",
   "execution_count": null,
   "id": "40f2c772",
   "metadata": {},
   "outputs": [],
   "source": []
  },
  {
   "cell_type": "code",
   "execution_count": null,
   "id": "627ba046",
   "metadata": {},
   "outputs": [],
   "source": []
  }
 ],
 "metadata": {
  "kernelspec": {
   "display_name": "Python 3 (ipykernel)",
   "language": "python",
   "name": "python3"
  },
  "language_info": {
   "codemirror_mode": {
    "name": "ipython",
    "version": 3
   },
   "file_extension": ".py",
   "mimetype": "text/x-python",
   "name": "python",
   "nbconvert_exporter": "python",
   "pygments_lexer": "ipython3",
   "version": "3.9.7"
  }
 },
 "nbformat": 4,
 "nbformat_minor": 5
}
